{
 "metadata": {
  "language_info": {
   "codemirror_mode": {
    "name": "ipython",
    "version": 3
   },
   "file_extension": ".py",
   "mimetype": "text/x-python",
   "name": "python",
   "nbconvert_exporter": "python",
   "pygments_lexer": "ipython3",
   "version": "3.8.8"
  },
  "orig_nbformat": 2,
  "kernelspec": {
   "name": "python38864bitosdmenvconda5ecb223fe0c34ed08caa6c83392bc0ce",
   "display_name": "Python 3.8.8 64-bit ('osdmenv': conda)"
  },
  "metadata": {
   "interpreter": {
    "hash": "fc9bae77d078f29ac623010de68463d5e25189ff442564a7c1baa1aef9a86030"
   }
  }
 },
 "nbformat": 4,
 "nbformat_minor": 2,
 "cells": [
  {
   "cell_type": "code",
   "execution_count": 1,
   "metadata": {},
   "outputs": [],
   "source": [
    "import pandas as pd"
   ]
  },
  {
   "cell_type": "code",
   "execution_count": 3,
   "metadata": {},
   "outputs": [
    {
     "output_type": "stream",
     "name": "stdout",
     "text": [
      "               GithubID  Year  \\\n0             basic-iot  2021   \n1    air-quality-sensor  2021   \n2           ASST_Django  2021   \n3           ASST_Django  2021   \n4           ASST_Django  2021   \n..                  ...   ...   \n269  aws-edukit-example  2021   \n270  aws-edukit-example  2021   \n271  aws-edukit-example  2021   \n272  aws-edukit-example  2021   \n273  aws-edukit-example  2021   \n\n                                              FullPath  \\\n0         ../IoT-Dataset/2021/basic-iot/prisma/seed.ts   \n1    ../IoT-Dataset/2021/air-quality-sensor/config....   \n2       ../IoT-Dataset/2021/ASST_Django/ASST/config.py   \n3       ../IoT-Dataset/2021/ASST_Django/ASST/config.py   \n4       ../IoT-Dataset/2021/ASST_Django/ASST/config.py   \n..                                                 ...   \n269  ../IoT-Dataset/2021/aws-edukit-example/main/Kc...   \n270  ../IoT-Dataset/2021/aws-edukit-example/vendor/...   \n271  ../IoT-Dataset/2021/aws-edukit-example/vendor/...   \n272  ../IoT-Dataset/2021/aws-edukit-example/vendor/...   \n273  ../IoT-Dataset/2021/aws-edukit-example/vendor/...   \n\n                                           Codesnippet  CWE  isTrueVulnerable  \n0    const api_key = createHash(\"md5\").update(chann...  261                 1  \n1                          'password': 'somepassword',  260                 1  \n2    from firebase_admin import credentials, auth a...  260                 1  \n3                      cred = credentials.Certificate(  260                 1  \n4                         \"/path/to/credentials.json\")  260                 0  \n..                                                 ...  ...               ...  \n269  WiFi password (WPA or WPA2) for the example to...  260                 0  \n270  subprocessout = sys_helper.run_subprocess_cmd(...  261                 1  \n271  subprocessout = sys_helper.run_subprocess_cmd(...  261                 1  \n272          isinstance(algorithm, hashes.MD5) and not  261                 0  \n273  \"MD5 is not a supported hash algorithm for EC/...  261                 0  \n\n[274 rows x 6 columns]\n"
     ]
    }
   ],
   "source": [
    "df = pd.read_csv ('vulnerability.csv')\n",
    "print (df)"
   ]
  },
  {
   "cell_type": "code",
   "execution_count": 10,
   "metadata": {},
   "outputs": [],
   "source": [
    "CWEGroup = df.groupby(['CWE'])"
   ]
  },
  {
   "cell_type": "code",
   "execution_count": 12,
   "metadata": {},
   "outputs": [
    {
     "output_type": "execute_result",
     "data": {
      "text/plain": [
       "                  GithubID  Year  FullPath  Codesnippet  CWE\n",
       "isTrueVulnerable                                            \n",
       "0                      197   197       197          197  197\n",
       "1                       20    20        20           20   20"
      ],
      "text/html": "<div>\n<style scoped>\n    .dataframe tbody tr th:only-of-type {\n        vertical-align: middle;\n    }\n\n    .dataframe tbody tr th {\n        vertical-align: top;\n    }\n\n    .dataframe thead th {\n        text-align: right;\n    }\n</style>\n<table border=\"1\" class=\"dataframe\">\n  <thead>\n    <tr style=\"text-align: right;\">\n      <th></th>\n      <th>GithubID</th>\n      <th>Year</th>\n      <th>FullPath</th>\n      <th>Codesnippet</th>\n      <th>CWE</th>\n    </tr>\n    <tr>\n      <th>isTrueVulnerable</th>\n      <th></th>\n      <th></th>\n      <th></th>\n      <th></th>\n      <th></th>\n    </tr>\n  </thead>\n  <tbody>\n    <tr>\n      <th>0</th>\n      <td>197</td>\n      <td>197</td>\n      <td>197</td>\n      <td>197</td>\n      <td>197</td>\n    </tr>\n    <tr>\n      <th>1</th>\n      <td>20</td>\n      <td>20</td>\n      <td>20</td>\n      <td>20</td>\n      <td>20</td>\n    </tr>\n  </tbody>\n</table>\n</div>"
     },
     "metadata": {},
     "execution_count": 12
    }
   ],
   "source": [
    "df[df['CWE']==120].groupby(['isTrueVulnerable']).count()"
   ]
  },
  {
   "cell_type": "code",
   "execution_count": 13,
   "metadata": {},
   "outputs": [
    {
     "output_type": "execute_result",
     "data": {
      "text/plain": [
       "                  GithubID  Year  FullPath  Codesnippet  CWE\n",
       "isTrueVulnerable                                            \n",
       "0                       34    34        34           34   34\n",
       "1                       23    23        23           23   23"
      ],
      "text/html": "<div>\n<style scoped>\n    .dataframe tbody tr th:only-of-type {\n        vertical-align: middle;\n    }\n\n    .dataframe tbody tr th {\n        vertical-align: top;\n    }\n\n    .dataframe thead th {\n        text-align: right;\n    }\n</style>\n<table border=\"1\" class=\"dataframe\">\n  <thead>\n    <tr style=\"text-align: right;\">\n      <th></th>\n      <th>GithubID</th>\n      <th>Year</th>\n      <th>FullPath</th>\n      <th>Codesnippet</th>\n      <th>CWE</th>\n    </tr>\n    <tr>\n      <th>isTrueVulnerable</th>\n      <th></th>\n      <th></th>\n      <th></th>\n      <th></th>\n      <th></th>\n    </tr>\n  </thead>\n  <tbody>\n    <tr>\n      <th>0</th>\n      <td>34</td>\n      <td>34</td>\n      <td>34</td>\n      <td>34</td>\n      <td>34</td>\n    </tr>\n    <tr>\n      <th>1</th>\n      <td>23</td>\n      <td>23</td>\n      <td>23</td>\n      <td>23</td>\n      <td>23</td>\n    </tr>\n  </tbody>\n</table>\n</div>"
     },
     "metadata": {},
     "execution_count": 13
    }
   ],
   "source": [
    "df[df['CWE']==190].groupby(['isTrueVulnerable']).count()"
   ]
  },
  {
   "cell_type": "code",
   "execution_count": null,
   "metadata": {},
   "outputs": [],
   "source": []
  }
 ]
}