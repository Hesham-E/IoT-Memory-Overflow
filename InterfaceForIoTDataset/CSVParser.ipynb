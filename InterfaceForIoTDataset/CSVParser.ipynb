{
 "metadata": {
  "language_info": {
   "codemirror_mode": {
    "name": "ipython",
    "version": 3
   },
   "file_extension": ".py",
   "mimetype": "text/x-python",
   "name": "python",
   "nbconvert_exporter": "python",
   "pygments_lexer": "ipython3",
   "version": "3.9.5"
  },
  "orig_nbformat": 2,
  "kernelspec": {
   "name": "python395jvsc74a57bd0d62dea41ca7a67b29e26c120c78b07faba4917a0c8e87d590f7f37f36b4c4190",
   "display_name": "Python 3.9.5 64-bit (windows store)"
  },
  "metadata": {
   "interpreter": {
    "hash": "d62dea41ca7a67b29e26c120c78b07faba4917a0c8e87d590f7f37f36b4c4190"
   }
  }
 },
 "nbformat": 4,
 "nbformat_minor": 2,
 "cells": [
  {
   "cell_type": "code",
   "execution_count": 14,
   "metadata": {},
   "outputs": [],
   "source": [
    "import pandas as pd"
   ]
  },
  {
   "cell_type": "code",
   "execution_count": 15,
   "metadata": {},
   "outputs": [
    {
     "output_type": "execute_result",
     "data": {
      "text/plain": [
       "['(scanf[ ]*\\\\([ ]*\"%s\")|(scanf\\\\(.{1,}[,][ ]*\".*%s.*\")',\n",
       " '(gets[ ]*\\\\()',\n",
       " '(strcpy[ ]*\\\\(.{1,}[,].{1,}\\\\))',\n",
       " '(memcpy[ ]*\\\\(.{1,}[,].{1,}\\\\))',\n",
       " '(memmove[ ]*\\\\(.{1,}[,].{1,}\\\\))',\n",
       " '(memset[ ]*\\\\(.{1,}[,].{1,}\\\\))',\n",
       " '(strcat[ ]*\\\\(.{1,}[,].{1,}\\\\))',\n",
       " '((sprintf)|(vsprintf)|(swprintf)|(vswprintf)|(_stprintf)|(_vstprintf))([ ]*\\\\(.{1,}[,])',\n",
       " '(MultiByteToWideChar[ ]*\\\\(.{1,}[,].{1,}[,].{1,}[,].{1,}[,].{1,}[,].{1,}\\\\))',\n",
       " '(strtrns[ ]*\\\\(.{1,}[,].{1,}[,].{1,}[,].{1,}\\\\))',\n",
       " '(realpath[ ]*\\\\(.{1,}[,].{1,}\\\\))',\n",
       " '((getopt)|(getopt_long))([ ]*\\\\(.{1,}[,].{1,}[,].{1,}\\\\))',\n",
       " '(getwd[ ]*\\\\(.{1,}[,].{1,}\\\\))',\n",
       " '((getchar)|(fgetc)|(getc)|(fread)|(_gettc))([ ]*\\\\(.*\\\\))']"
      ]
     },
     "metadata": {},
     "execution_count": 15
    }
   ],
   "source": [
    "[\"(scanf[ ]*\\([ ]*\\\"%s\\\")|(scanf\\(.{1,}[,][ ]*\\\".*%s.*\\\")\",\n",
    "                  \"(gets[ ]*\\()\", \n",
    "                  \"(strcpy[ ]*\\(.{1,}[,].{1,}\\))\", \n",
    "                  \"(memcpy[ ]*\\(.{1,}[,].{1,}\\))\", \n",
    "                  \"(memmove[ ]*\\(.{1,}[,].{1,}\\))\", \n",
    "                  \"(memset[ ]*\\(.{1,}[,].{1,}\\))\", \n",
    "                  \"(strcat[ ]*\\(.{1,}[,].{1,}\\))\", \n",
    "                  \"((sprintf)|(vsprintf)|(swprintf)|(vswprintf)|(_stprintf)|(_vstprintf))([ ]*\\(.{1,}[,])\",\n",
    "                  \"(MultiByteToWideChar[ ]*\\(.{1,}[,].{1,}[,].{1,}[,].{1,}[,].{1,}[,].{1,}\\))\",\n",
    "                  \"(strtrns[ ]*\\(.{1,}[,].{1,}[,].{1,}[,].{1,}\\))\", \n",
    "                  \"(realpath[ ]*\\(.{1,}[,].{1,}\\))\", \n",
    "                  \"((getopt)|(getopt_long))([ ]*\\(.{1,}[,].{1,}[,].{1,}\\))\", \n",
    "                  \"(getwd[ ]*\\(.{1,}[,].{1,}\\))\", \n",
    "                  \"((getchar)|(fgetc)|(getc)|(fread)|(_gettc))([ ]*\\(.*\\))\"]"
   ]
  },
  {
   "cell_type": "code",
   "execution_count": 16,
   "metadata": {},
   "outputs": [],
   "source": [
    "year = \"2021\"\n",
    "df = pd.read_csv('vulnerability' + year + '.csv')\n",
    "#df.head()"
   ]
  },
  {
   "cell_type": "code",
   "execution_count": 17,
   "metadata": {},
   "outputs": [],
   "source": [
    "df = df.drop_duplicates(subset='Codesnippet', keep='first')\n",
    "dfarr = {\"memset\": df[df['Codesnippet'].str.contains('memset', na=False).values],\n",
    "    \"gets\":df[df['Codesnippet'].str.contains('gets', na=False).values],\n",
    "    \"scanf\":df[df['Codesnippet'].str.contains('scanf', na=False).values],\n",
    "    \"strcpy\": df[df['Codesnippet'].str.contains('strcpy', na=False).values],\n",
    "    \"memcpy\": df[df['Codesnippet'].str.contains('memcpy', na=False).values],\n",
    "    \"memmove\": df[df['Codesnippet'].str.contains('memmove', na=False).values],\n",
    "    \"strcat\": df[df['Codesnippet'].str.contains('strcat', na=False).values],\n",
    "    \"printf\": df[df['Codesnippet'].str.contains('printf', na=False).values],\n",
    "    \"MultiByteToWideChar\": df[df['Codesnippet'].str.contains('MultiByteToWideChar', na=False).values],\n",
    "    \"strtrns\": df[df['Codesnippet'].str.contains('strtrns', na=False).values],\n",
    "    \"realpath\":df[df['Codesnippet'].str.contains('realpath', na=False).values],\n",
    "    \"getopt\": df[df['Codesnippet'].str.contains('getopt', na=False).values],\n",
    "    \"getwd\": df[df['Codesnippet'].str.contains('getwd', na=False).values],\n",
    "    \"getchar\": df[df['Codesnippet'].str.contains('getchar', na=False).values],\n",
    "    \"fgetc\": df[df['Codesnippet'].str.contains('fgetc', na=False).values],\n",
    "    \"getc\": df[df['Codesnippet'].str.contains('getc', na=False).values],\n",
    "    \"fread\": df[df['Codesnippet'].str.contains('fread', na=False).values],\n",
    "    \"_gettc\": df[df['Codesnippet'].str.contains('_gettc', na=False).values]}\n",
    "#df.head()\n"
   ]
  },
  {
   "cell_type": "code",
   "execution_count": 18,
   "metadata": {},
   "outputs": [],
   "source": [
    "for dfunc in dfarr:\n",
    "    dfarr[dfunc].to_csv(\"./\" + year + dfunc + \".csv\")"
   ]
  },
  {
   "cell_type": "code",
   "execution_count": 19,
   "metadata": {},
   "outputs": [
    {
     "output_type": "execute_result",
     "data": {
      "text/plain": [
       "'\"memset\":df[df[\\'Codesnippet\\'].str.contains(\\'memset\\', na=False).values],\\n    \"gets\": df_gets = df[df[\\'Codesnippet\\'].str.contains(\\'gets\\', na=False).values],\\n    \"scanf\": df_scanf = df[df[\\'Codesnippet\\'].str.contains(\\'scanf\\', na=False).values],\\n    \"strcpy\": df_strcpy = df[df[\\'Codesnippet\\'].str.contains(\\'strcpy\\', na=False).values],\\n    \"memcpy\": df_memcpy = df[df[\\'Codesnippet\\'].str.contains(\\'memcpy\\', na=False).values],\\n    \"memmove\": df_memmove = df[df[\\'Codesnippet\\'].str.contains(\\'memmove\\', na=False).values],\\n    \"strcat\": df_strcat = df[df[\\'Codesnippet\\'].str.contains(\\'strcat\\', na=False).values],\\n    \"printf\": df_printf = df[df[\\'Codesnippet\\'].str.contains(\\'printf\\', na=False).values],\\n    \"MultiByteToWideChar\": df_MultiByteToWideChar = df[df[\\'Codesnippet\\'].str.contains(\\'MultiByteToWideChar\\', na=False).values],\\n    \"strtrns\": df_strtrns = df[df[\\'Codesnippet\\'].str.contains(\\'strtrns\\', na=False).values],\\n    \"realpath\": df_realpath = df[df[\\'Codesnippet\\'].str.contains(\\'realpath\\', na=False).values],\\n    \"getopt\": df_getopt = df[df[\\'Codesnippet\\'].str.contains(\\'getopt\\', na=False).values],\\n    \"getwd\": df_getwd = df[df[\\'Codesnippet\\'].str.contains(\\'getwd\\', na=False).values],\\n    \"getchar\": df_getchar = df[df[\\'Codesnippet\\'].str.contains(\\'getchar\\', na=False).values],\\n    \"fgetc\": df_fgetc = df[df[\\'Codesnippet\\'].str.contains(\\'fgetc\\', na=False).values],\\n    \"getc\": df_getc = df[df[\\'Codesnippet\\'].str.contains(\\'getc\\', na=False).values],\\n    \"fread\": df_fread = df[df[\\'Codesnippet\\'].str.contains(\\'fread\\', na=False).values],\\n    \"_gettc\": df__gettc = df[df[\\'Codesnippet\\'].str.contains(\\'_gettc\\', na=False).values]}'"
      ]
     },
     "metadata": {},
     "execution_count": 19
    }
   ],
   "source": [
    "\"\"\"\"memset\":df[df['Codesnippet'].str.contains('memset', na=False).values],\n",
    "    \"gets\": df_gets = df[df['Codesnippet'].str.contains('gets', na=False).values],\n",
    "    \"scanf\": df_scanf = df[df['Codesnippet'].str.contains('scanf', na=False).values],\n",
    "    \"strcpy\": df_strcpy = df[df['Codesnippet'].str.contains('strcpy', na=False).values],\n",
    "    \"memcpy\": df_memcpy = df[df['Codesnippet'].str.contains('memcpy', na=False).values],\n",
    "    \"memmove\": df_memmove = df[df['Codesnippet'].str.contains('memmove', na=False).values],\n",
    "    \"strcat\": df_strcat = df[df['Codesnippet'].str.contains('strcat', na=False).values],\n",
    "    \"printf\": df_printf = df[df['Codesnippet'].str.contains('printf', na=False).values],\n",
    "    \"MultiByteToWideChar\": df_MultiByteToWideChar = df[df['Codesnippet'].str.contains('MultiByteToWideChar', na=False).values],\n",
    "    \"strtrns\": df_strtrns = df[df['Codesnippet'].str.contains('strtrns', na=False).values],\n",
    "    \"realpath\": df_realpath = df[df['Codesnippet'].str.contains('realpath', na=False).values],\n",
    "    \"getopt\": df_getopt = df[df['Codesnippet'].str.contains('getopt', na=False).values],\n",
    "    \"getwd\": df_getwd = df[df['Codesnippet'].str.contains('getwd', na=False).values],\n",
    "    \"getchar\": df_getchar = df[df['Codesnippet'].str.contains('getchar', na=False).values],\n",
    "    \"fgetc\": df_fgetc = df[df['Codesnippet'].str.contains('fgetc', na=False).values],\n",
    "    \"getc\": df_getc = df[df['Codesnippet'].str.contains('getc', na=False).values],\n",
    "    \"fread\": df_fread = df[df['Codesnippet'].str.contains('fread', na=False).values],\n",
    "    \"_gettc\": df__gettc = df[df['Codesnippet'].str.contains('_gettc', na=False).values]}\"\"\""
   ]
  }
 ]
}