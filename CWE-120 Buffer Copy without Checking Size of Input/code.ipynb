{
 "metadata": {
  "language_info": {
   "codemirror_mode": {
    "name": "ipython",
    "version": 3
   },
   "file_extension": ".py",
   "mimetype": "text/x-python",
   "name": "python",
   "nbconvert_exporter": "python",
   "pygments_lexer": "ipython3",
   "version": "3.8.10"
  },
  "orig_nbformat": 2,
  "kernelspec": {
   "name": "python3810jvsc74a57bd02dc3d5ef246a660725477c50d73a860795d5f2ec613f147feb7bad3708c92a78",
   "display_name": "Python 3.8.10 64-bit"
  },
  "metadata": {
   "interpreter": {
    "hash": "2dc3d5ef246a660725477c50d73a860795d5f2ec613f147feb7bad3708c92a78"
   }
  }
 },
 "nbformat": 4,
 "nbformat_minor": 2,
 "cells": [
  {
   "cell_type": "code",
   "execution_count": 16,
   "metadata": {},
   "outputs": [],
   "source": [
    "import os\n",
    "import re"
   ]
  },
  {
   "cell_type": "code",
   "execution_count": 17,
   "metadata": {},
   "outputs": [],
   "source": [
    "functionsREGEX = [\"(scanf[ ]*\\([ ]*\\\"%s\\\")|(scanf\\(.{1,}[,][ ]*\\\".*%s.*\\\")\",\r\n",
    "                  \"(gets[ ]*\\()\", \r\n",
    "                  \"(strcpy[ ]*\\(.{1,}[,].{1,}\\))\", \r\n",
    "                  \"(memcpy[ ]*\\(.{1,}[,].{1,}\\))\", \r\n",
    "                  \"(memmove[ ]*\\(.{1,}[,].{1,}\\))\", \r\n",
    "                  \"(memset[ ]*\\(.{1,}[,].{1,}\\))\", \r\n",
    "                  \"(strncat[ ]*\\(.{1,}[,].{1,}[,].{1,}\\))\", \r\n",
    "                  \"(strcat[ ]*\\(.{1,}[,].{1,}\\))\", \r\n",
    "                  \"(strncpy[ ]*\\(.{1,}[,].{1,}[,].{1,}\\))\", \r\n",
    "                  \"(sprintf|vsprintf|swprintf|vswprintf|_stprintf|_vstprintf)([ ]*\\(.{1,}[,])\",\r\n",
    "                  \"(MultiByteToWideChar[ ]*\\(.{1,}[,].{1,}[,].{1,}[,].{1,}[,].{1,}[,].{1,}\\))\",\r\n",
    "                  \"(strtrns[ ]*\\(.{1,}[,].{1,}[,].{1,}[,].{1,}\\))\", \r\n",
    "                  \"(realpath[ ]*\\(.{1,}[,].{1,}\\))\", \r\n",
    "                  \"(getopt|getopt_long)([ ]*\\(.{1,}[,].{1,}[,].{1,}\\))\", \r\n",
    "                  \"(getwd[ ]*\\(.{1,}[,].{1,}\\))\", \r\n",
    "                  \"(getchar|fgetc|getc|read|_gettc)(\\(.*\\))\"]"
   ]
  },
  {
   "cell_type": "code",
   "execution_count": 18,
   "metadata": {},
   "outputs": [],
   "source": [
    "folderPath = './Testdata/'\n",
    "fileList = os.listdir(folderPath)"
   ]
  },
  {
   "cell_type": "code",
   "execution_count": 19,
   "metadata": {},
   "outputs": [],
   "source": [
    "def findFunctionCall (fileList, functionsKeywords):\n",
    "    fileDict = dict()\n",
    "    for fileName in fileList:\n",
    "        print('Checking for \\\"CWE-120: Buffer Copy without Checking Size of Input\\\" in file ', fileName)\n",
    "        print('-----------------------------------------------------------------------------\\n')\n",
    "        fileDict[fileName] = {\"secure\": True}\n",
    "        fileR = open(folderPath + fileName, 'r')\n",
    "        lines = fileR.readlines()\n",
    "        vunerableCount = 0\n",
    "        lineNum = 0\n",
    "\n",
    "        for line in lines:\n",
    "            lineNum += 1\n",
    "            for functionREGEX in functionsREGEX:\n",
    "                functionREGEX = '(?<!\\/\\/)' + functionREGEX #Expression to ensure that line is not a comment \n",
    "                lineNoWhiteSpace = \"\".join(line.split()) #Remove spaces since negative lookbehind pattern needs a definitive width\n",
    "                match = re.search(functionREGEX, lineNoWhiteSpace)\n",
    "                if match:\n",
    "                    vunerableCount += 1\n",
    "                    fileDict[fileName].update({\"line\" + str(lineNum): line, \"secure\": False})\n",
    "                    print('Possible vulnerability : \\\"CWE-120: Buffer Copy without Checking Size of Input\\\"')\n",
    "                    print('Need inspection at Line #',lineNum,' :',line)\n",
    "                    print()\n",
    "\n",
    "        if vunerableCount == 0:\n",
    "            print('No \\\"CWE-120: Buffer Copy without Checking Size of Input\\\" found in file: ',fileName)\n",
    "        else:\n",
    "            print(vunerableCount,'possible \\\"CWE-120: Buffer Copy without Checking Size of Input\\\" found in file: ',fileName)\n",
    "        print('-----------------------------------------------------------------------------\\n')\n",
    "    return fileDict"
   ]
  },
  {
   "cell_type": "code",
   "execution_count": 20,
   "metadata": {
    "tags": []
   },
   "outputs": [
    {
     "output_type": "stream",
     "name": "stdout",
     "text": [
      "Checking for \"CWE-120: Buffer Copy without Checking Size of Input\" in file  example1.c\n-----------------------------------------------------------------------------\n\nPossible vulnerability : \"CWE-120: Buffer Copy without Checking Size of Input\"\nNeed inspection at Line # 12  :     scanf (\"%s\", last_name);\n\n\nPossible vulnerability : \"CWE-120: Buffer Copy without Checking Size of Input\"\nNeed inspection at Line # 16  :     char c = getchar();\n\n\nPossible vulnerability : \"CWE-120: Buffer Copy without Checking Size of Input\"\nNeed inspection at Line # 19  :         c = getchar();\n\n\nPossible vulnerability : \"CWE-120: Buffer Copy without Checking Size of Input\"\nNeed inspection at Line # 24  :     gets(buf);\n\n\nPossible vulnerability : \"CWE-120: Buffer Copy without Checking Size of Input\"\nNeed inspection at Line # 32  :     strcpy(buf, string);\n\n\n5 possible \"CWE-120: Buffer Copy without Checking Size of Input\" found in file:  example1.c\n-----------------------------------------------------------------------------\n\nChecking for \"CWE-120: Buffer Copy without Checking Size of Input\" in file  example2.c\n-----------------------------------------------------------------------------\n\nPossible vulnerability : \"CWE-120: Buffer Copy without Checking Size of Input\"\nNeed inspection at Line # 13  :     scanf ( \"%s\", buf);\n\n\nPossible vulnerability : \"CWE-120: Buffer Copy without Checking Size of Input\"\nNeed inspection at Line # 15  :     char c = getchar();\n\n\nPossible vulnerability : \"CWE-120: Buffer Copy without Checking Size of Input\"\nNeed inspection at Line # 18  :         c = getchar();\n\n\nPossible vulnerability : \"CWE-120: Buffer Copy without Checking Size of Input\"\nNeed inspection at Line # 24  :     gets ( buf );\n\n\nPossible vulnerability : \"CWE-120: Buffer Copy without Checking Size of Input\"\nNeed inspection at Line # 32  :     strcpy ( buf , string);\n\n\n5 possible \"CWE-120: Buffer Copy without Checking Size of Input\" found in file:  example2.c\n-----------------------------------------------------------------------------\n\nChecking for \"CWE-120: Buffer Copy without Checking Size of Input\" in file  example3.c\n-----------------------------------------------------------------------------\n\nPossible vulnerability : \"CWE-120: Buffer Copy without Checking Size of Input\"\nNeed inspection at Line # 13  :     if (memcpy(str2,str1, strlen(str1)))\n\n\nPossible vulnerability : \"CWE-120: Buffer Copy without Checking Size of Input\"\nNeed inspection at Line # 28  :     if (memmove(str3+2,str3, strlen(str3)))\n\n\nPossible vulnerability : \"CWE-120: Buffer Copy without Checking Size of Input\"\nNeed inspection at Line # 45  :     memset(a, 3, 5*sizeof(char));\n\n\n3 possible \"CWE-120: Buffer Copy without Checking Size of Input\" found in file:  example3.c\n-----------------------------------------------------------------------------\n\n"
     ]
    },
    {
     "output_type": "execute_result",
     "data": {
      "text/plain": [
       "{'example1.c': {'secure': False,\n",
       "  'line12': '    scanf (\"%s\", last_name);\\n',\n",
       "  'line16': '    char c = getchar();\\n',\n",
       "  'line19': '        c = getchar();\\n',\n",
       "  'line24': '    gets(buf);\\n',\n",
       "  'line32': '    strcpy(buf, string);\\n'},\n",
       " 'example2.c': {'secure': False,\n",
       "  'line13': '    scanf ( \"%s\", buf);\\n',\n",
       "  'line15': '    char c = getchar();\\n',\n",
       "  'line18': '        c = getchar();\\n',\n",
       "  'line24': '    gets ( buf );\\n',\n",
       "  'line32': '    strcpy ( buf , string);\\n'},\n",
       " 'example3.c': {'secure': False,\n",
       "  'line13': '    if (memcpy(str2,str1, strlen(str1)))\\n',\n",
       "  'line28': '    if (memmove(str3+2,str3, strlen(str3)))\\n',\n",
       "  'line45': '    memset(a, 3, 5*sizeof(char));\\n'}}"
      ]
     },
     "metadata": {},
     "execution_count": 20
    }
   ],
   "source": [
    "findFunctionCall(fileList, functionsREGEX)"
   ]
  }
 ]
}