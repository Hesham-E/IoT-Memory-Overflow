{
 "metadata": {
  "language_info": {
   "codemirror_mode": {
    "name": "ipython",
    "version": 3
   },
   "file_extension": ".py",
   "mimetype": "text/x-python",
   "name": "python",
   "nbconvert_exporter": "python",
   "pygments_lexer": "ipython3",
   "version": "3.8.9-final"
  },
  "orig_nbformat": 2,
  "kernelspec": {
   "name": "python389jvsc74a57bd02dc3d5ef246a660725477c50d73a860795d5f2ec613f147feb7bad3708c92a78",
   "display_name": "Python 3.8.9 64-bit"
  },
  "metadata": {
   "interpreter": {
    "hash": "2dc3d5ef246a660725477c50d73a860795d5f2ec613f147feb7bad3708c92a78"
   }
  }
 },
 "nbformat": 4,
 "nbformat_minor": 2,
 "cells": [
  {
   "cell_type": "code",
   "execution_count": 69,
   "metadata": {},
   "outputs": [],
   "source": [
    "import os"
   ]
  },
  {
   "cell_type": "code",
   "execution_count": 70,
   "metadata": {},
   "outputs": [],
   "source": [
    "functionsKeywords = ['scanf', 'gets', 'strcpy']"
   ]
  },
  {
   "cell_type": "code",
   "execution_count": 71,
   "metadata": {},
   "outputs": [],
   "source": [
    "folderPath = './Testdata/'\n",
    "fileList = os.listdir(folderPath)"
   ]
  },
  {
   "cell_type": "code",
   "execution_count": 72,
   "metadata": {},
   "outputs": [],
   "source": [
    "def findFunctionCall (fileList, functionsKeywords):\n",
    "    fileDict = dict()\n",
    "    for fileName in fileList:\n",
    "        print('Checking for \\\"CWE-120: Buffer Copy without Checking Size of Input\\\" in file ', fileName)\n",
    "        print('-----------------------------------------------------------------------------\\n')\n",
    "        fileDict[fileName] = {\"secure\": True}\n",
    "        fileR = open(folderPath + fileName, 'r')\n",
    "        lines = fileR.readlines()\n",
    "        vunerableCount = 0\n",
    "        lineNum = 0\n",
    "\n",
    "        for line in lines:\n",
    "            lineNum += 1\n",
    "            for functionsKeyword in functionsKeywords:\n",
    "                if functionsKeyword in line:\n",
    "                    vunerableCount += 1\n",
    "                    fileDict[fileName].update({\"line\" + str(lineNum): line, \"secure\": False})\n",
    "                    print('Possible vulnerability : \\\"CWE-120: Buffer Copy without Checking Size of Input\\\"')\n",
    "                    print('Need inspection at Line #',lineNum,' :',line)\n",
    "                    print()\n",
    "\n",
    "        if vunerableCount == 0:\n",
    "            print('No \\\"CWE-120: Buffer Copy without Checking Size of Input\\\" found in file: ',fileName)\n",
    "        else:\n",
    "            print(vunerableCount,'possible \\\"CWE-120: Buffer Copy without Checking Size of Input\\\" found in file: ',fileName)\n",
    "        print('-----------------------------------------------------------------------------\\n')\n",
    "    return fileDict"
   ]
  },
  {
   "cell_type": "code",
   "execution_count": 73,
   "metadata": {},
   "outputs": [
    {
     "output_type": "stream",
     "name": "stdout",
     "text": [
      "Checking for \"CWE-120: Buffer Copy without Checking Size of Input\" in file  example1.c\n-----------------------------------------------------------------------------\n\nPossible vulnerability : \"CWE-120: Buffer Copy without Checking Size of Input\"\nNeed inspection at Line # 12  :     scanf (\"%s\", last_name);\n\n\nPossible vulnerability : \"CWE-120: Buffer Copy without Checking Size of Input\"\nNeed inspection at Line # 24  :     gets(buf);\n\n\nPossible vulnerability : \"CWE-120: Buffer Copy without Checking Size of Input\"\nNeed inspection at Line # 32  :     strcpy(buf, string);\n\n\n3 possible \"CWE-120: Buffer Copy without Checking Size of Input\" found in file:  example1.c\n-----------------------------------------------------------------------------\n\n"
     ]
    },
    {
     "output_type": "execute_result",
     "data": {
      "text/plain": [
       "{'example1.c': {'secure': False,\n",
       "  'line12': '    scanf (\"%s\", last_name);\\n',\n",
       "  'line24': '    gets(buf);\\n',\n",
       "  'line32': '    strcpy(buf, string);\\n'}}"
      ]
     },
     "metadata": {},
     "execution_count": 73
    }
   ],
   "source": [
    "findFunctionCall(fileList, functionsKeywords)"
   ]
  }
 ]
}